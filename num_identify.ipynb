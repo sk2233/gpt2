{
 "cells": [
  {
   "cell_type": "code",
   "id": "initial_id",
   "metadata": {
    "collapsed": true,
    "ExecuteTime": {
     "end_time": "2025-03-16T11:35:09.470617Z",
     "start_time": "2025-03-16T11:35:09.376003Z"
    }
   },
   "source": [
    "import numpy as np\n",
    "from torchvision.datasets import MNIST\n",
    "from torch.utils.data import DataLoader\n",
    "from torchvision import transforms\n",
    "import matplotlib.pyplot as plt\n",
    "import ssl\n",
    "ssl._create_default_https_context = ssl._create_unverified_context\n",
    "\n",
    "def get_data_loader(is_train):\n",
    "    # 使用手写数字数据集 若是没有就下载到本地，有就直接使用\n",
    "    data_set = MNIST(\"./\",is_train, transform=transforms.ToTensor(), download=True)\n",
    "    return DataLoader(data_set, batch_size=64, shuffle=True)\n",
    "\n",
    "train_data = get_data_loader(is_train=True)\n",
    "test_data = get_data_loader(is_train=False)\n",
    "print('batch_count:',len(train_data))\n",
    "img,res = next(iter(train_data))\n",
    "print('img_shape:',img.shape,'res_shape:',res.shape)\n",
    "plt.imshow(img[0][0],cmap='gray')\n",
    "plt.show()\n",
    "print('res:',res[0].item())"
   ],
   "outputs": [
    {
     "name": "stdout",
     "output_type": "stream",
     "text": [
      "batch_count: 938\n",
      "img_shape: torch.Size([64, 1, 28, 28]) res_shape: torch.Size([64])\n"
     ]
    },
    {
     "data": {
      "text/plain": [
       "<Figure size 640x480 with 1 Axes>"
      ],
      "image/png": "[encoded data removed]"
     },
     "metadata": {},
     "output_type": "display_data"
    },
    {
     "name": "stdout",
     "output_type": "stream",
     "text": [
      "res: 3\n"
     ]
    }
   ],
   "execution_count": 122
  },
  {
   "metadata": {
    "ExecuteTime": {
     "end_time": "2025-03-30T04:06:44.722734Z",
     "start_time": "2025-03-30T04:06:43.693203Z"
    }
   },
   "cell_type": "code",
   "source": [
    "from torch.nn import Module,Linear\n",
    "import torch.nn.functional as F\n",
    "import torch\n",
    "\n",
    "class Net(Module):\n",
    "    def __init__(self):\n",
    "        super().__init__()\n",
    "        self.fc1 = Linear(28*28, 64) # 图片大小\n",
    "        # 层数越多参数越多\n",
    "        self.fc2 = Linear(64, 64) # y = xA + b   通过矩阵 A 转换纬度，b 表示偏移\n",
    "        self.fc3 = Linear(64, 64)\n",
    "        self.fc4 = Linear(64, 10) # 输出 10个数的概率\n",
    "    def forward(self, item):\n",
    "        item = F.relu(self.fc1(item)) # 线性层与非线性层组合处理  多层全连接\n",
    "        item = F.relu(self.fc2(item))\n",
    "        item = F.relu(self.fc3(item))\n",
    "        return F.softmax(self.fc4(item), dim=1) # 转换为 10个数并规范成概率\n",
    "\n",
    "net = Net()\n",
    "print('net:',net,'parameter_count:',sum(item.numel() for item in net.parameters()))\n",
    "# linear = Linear(64, 10)\n",
    "# print('weight_shape:',linear.weight.shape,'bias_shape:',linear.bias.shape)\n",
    "x=torch.arange(-10,10)\n",
    "y = F.relu(x)\n",
    "plt.plot(x,y, color='red')\n",
    "plt.show()\n",
    "# temp = torch.rand([5])\n",
    "# prob = F.softmax(temp,dim=0)\n",
    "# print('temp:',temp)\n",
    "# print('prob:',prob,'sum:',prob.sum().item())"
   ],
   "id": "411772b314d23f2",
   "outputs": [
    {
     "name": "stdout",
     "output_type": "stream",
     "text": [
      "net: Net(\n",
      "  (fc1): Linear(in_features=784, out_features=64, bias=True)\n",
      "  (fc2): Linear(in_features=64, out_features=64, bias=True)\n",
      "  (fc3): Linear(in_features=64, out_features=64, bias=True)\n",
      "  (fc4): Linear(in_features=64, out_features=10, bias=True)\n",
      ") parameter_count: 59210\n"
     ]
    },
    {
     "ename": "NameError",
     "evalue": "name 'plt' is not defined",
     "output_type": "error",
     "traceback": [
      "\u001B[0;31m---------------------------------------------------------------------------\u001B[0m",
      "\u001B[0;31mNameError\u001B[0m                                 Traceback (most recent call last)",
      "Cell \u001B[0;32mIn[2], line 25\u001B[0m\n\u001B[1;32m     23\u001B[0m x\u001B[38;5;241m=\u001B[39mtorch\u001B[38;5;241m.\u001B[39marange(\u001B[38;5;241m-\u001B[39m\u001B[38;5;241m10\u001B[39m,\u001B[38;5;241m10\u001B[39m)\n\u001B[1;32m     24\u001B[0m y \u001B[38;5;241m=\u001B[39m F\u001B[38;5;241m.\u001B[39mrelu(x)\n\u001B[0;32m---> 25\u001B[0m \u001B[43mplt\u001B[49m\u001B[38;5;241m.\u001B[39mplot(x,y, color\u001B[38;5;241m=\u001B[39m\u001B[38;5;124m'\u001B[39m\u001B[38;5;124mred\u001B[39m\u001B[38;5;124m'\u001B[39m)\n\u001B[1;32m     26\u001B[0m plt\u001B[38;5;241m.\u001B[39mshow()\n\u001B[1;32m     27\u001B[0m \u001B[38;5;66;03m# temp = torch.rand([5])\u001B[39;00m\n\u001B[1;32m     28\u001B[0m \u001B[38;5;66;03m# prob = F.softmax(temp,dim=0)\u001B[39;00m\n\u001B[1;32m     29\u001B[0m \u001B[38;5;66;03m# print('temp:',temp)\u001B[39;00m\n\u001B[1;32m     30\u001B[0m \u001B[38;5;66;03m# print('prob:',prob,'sum:',prob.sum().item())\u001B[39;00m\n",
      "\u001B[0;31mNameError\u001B[0m: name 'plt' is not defined"
     ]
    }
   ],
   "execution_count": 2
  },
  {
   "metadata": {
    "ExecuteTime": {
     "end_time": "2025-03-30T04:27:33.597771Z",
     "start_time": "2025-03-30T04:27:33.593637Z"
    }
   },
   "cell_type": "code",
   "source": [
    "fc = Linear(3,5)\n",
    "print('fc.weight',fc.weight)\n",
    "print('fc.bias',fc.bias)"
   ],
   "id": "4bb3c11b9c9ca7ec",
   "outputs": [
    {
     "name": "stdout",
     "output_type": "stream",
     "text": [
      "fc.weight Parameter containing:\n",
      "tensor([[ 0.4416, -0.5422,  0.1841],\n",
      "        [ 0.5588, -0.5241,  0.2968],\n",
      "        [-0.1708, -0.1720,  0.5721],\n",
      "        [-0.2337,  0.2571,  0.5474],\n",
      "        [ 0.1698, -0.5174, -0.4130]], requires_grad=True)\n",
      "fc.bias Parameter containing:\n",
      "tensor([-0.2306, -0.1353, -0.4799,  0.2891, -0.5280], requires_grad=True)\n"
     ]
    }
   ],
   "execution_count": 19
  },
  {
   "metadata": {
    "ExecuteTime": {
     "end_time": "2025-03-16T11:35:15.263635Z",
     "start_time": "2025-03-16T11:35:15.259998Z"
    }
   },
   "cell_type": "code",
   "source": [
    "def evaluate(datas, net):\n",
    "    correct = 0\n",
    "    total = 0\n",
    "    with torch.no_grad():  # 测试不需要计算梯度\n",
    "        for (imgs, res) in datas:\n",
    "            outputs = net.forward(imgs.view(-1, 28*28))\n",
    "            for i, temp in enumerate(outputs):\n",
    "                if torch.argmax(temp) == res[i]:\n",
    "                    correct += 1\n",
    "                total += 1\n",
    "    return correct / total\n",
    "\n",
    "# temp = torch.rand([2,10,10])\n",
    "# view = temp.view(-1,5)\n",
    "# print('temp_shape:',temp.shape,'view_shape:',view.shape)\n",
    "# temp = torch.rand([5]) # argmax 返回最大值的下标\n",
    "# print('temp:',temp,'argmax:',torch.argmax(temp).item())"
   ],
   "id": "a4bc158f769b68d8",
   "outputs": [],
   "execution_count": 124
  },
  {
   "metadata": {
    "ExecuteTime": {
     "end_time": "2025-03-30T04:14:30.628185Z",
     "start_time": "2025-03-30T04:14:30.619640Z"
    }
   },
   "cell_type": "code",
   "source": [
    "# ta = torch.tensor([2.])\n",
    "ta = torch.tensor([2.],requires_grad=True) # 只关心 a 的梯度\n",
    "tb = torch.Tensor([3.])\n",
    "tc = torch.Tensor([4.])\n",
    "td = ta*tb\n",
    "te = tc*td\n",
    "print('te',te)\n",
    "te.backward()\n",
    "print('ta.grad',ta.grad)"
   ],
   "id": "580b82c23d849e3f",
   "outputs": [
    {
     "name": "stdout",
     "output_type": "stream",
     "text": [
      "te tensor([24.], grad_fn=<MulBackward0>)\n",
      "ta.grad tensor([12.])\n"
     ]
    }
   ],
   "execution_count": 13
  },
  {
   "metadata": {
    "ExecuteTime": {
     "end_time": "2025-03-16T11:35:23.800784Z",
     "start_time": "2025-03-16T11:35:17.889069Z"
    }
   },
   "cell_type": "code",
   "source": [
    "from torch.optim import Adam\n",
    "\n",
    "opti = Adam(net.parameters(), lr=0.001) # 自动优化器\n",
    "epoch = 3\n",
    "print('parameter_count:',sum(item.numel() for item in net.parameters()))\n",
    "print(\"init accuracy:\", evaluate(test_data, net))\n",
    "for epoch in range(epoch): # 3轮训练\n",
    "    for (args, res) in train_data:\n",
    "        output = net.forward(args.view(-1, 28 * 28))\n",
    "        loss = F.cross_entropy(output, res) # 计算损失\n",
    "        net.zero_grad()\n",
    "        loss.backward() # 计算梯度\n",
    "        opti.step() # 根据梯度调整优化\n",
    "    print(\"epoch\", epoch, \"accuracy:\", evaluate(test_data, net))"
   ],
   "id": "5b88bc8980392733",
   "outputs": [
    {
     "name": "stdout",
     "output_type": "stream",
     "text": [
      "parameter_count: 59210\n",
      "init accuracy: 0.1032\n",
      "epoch 0 accuracy: 0.9265\n",
      "epoch 1 accuracy: 0.9387\n",
      "epoch 2 accuracy: 0.9467\n"
     ]
    }
   ],
   "execution_count": 125
  },
  {
   "metadata": {
    "ExecuteTime": {
     "end_time": "2025-03-16T03:38:41.316983Z",
     "start_time": "2025-03-16T03:38:41.236531Z"
    }
   },
   "cell_type": "code",
   "source": [
    "img,res = next(iter(train_data))\n",
    "prob = net.forward(img[0].view(-1, 28 * 28))\n",
    "print('prob:',torch.argmax(prob).item(),'res:',res[0].item())\n",
    "plt.imshow(img[0][0],cmap='gray')\n",
    "plt.show()"
   ],
   "id": "7178541467ea0004",
   "outputs": [
    {
     "name": "stdout",
     "output_type": "stream",
     "text": [
      "prob: 3 res: 3\n"
     ]
    },
    {
     "data": {
      "text/plain": [
       "<Figure size 640x480 with 1 Axes>"
      ],
      "image/png": "[encoded data removed]"
     },
     "metadata": {},
     "output_type": "display_data"
    }
   ],
   "execution_count": 64
  },
  {
   "metadata": {
    "ExecuteTime": {
     "end_time": "2025-03-16T05:23:02.615702Z",
     "start_time": "2025-03-16T05:23:02.613281Z"
    }
   },
   "cell_type": "code",
   "source": [
    "# import math\n",
    "#\n",
    "# prob = torch.arange(0.01,1.01,0.01)\n",
    "# res = torch.ones([100,100])\n",
    "# temp =0\n",
    "# for i in range(100):\n",
    "#     for j in range(100):\n",
    "#         res[i,j] = prob[i]*math.log(prob[i]/prob[j])\n",
    "#         temp+=res[i,j]\n",
    "# res /= (temp/100_00)\n",
    "# plt.imshow(res,cmap='gray')\n",
    "# plt.show()"
   ],
   "id": "cf90bc40095fb35d",
   "outputs": [],
   "execution_count": 114
  }
 ],
 "metadata": {
  "kernelspec": {
   "display_name": "Python 3",
   "language": "python",
   "name": "python3"
  },
  "language_info": {
   "codemirror_mode": {
    "name": "ipython",
    "version": 2
   },
   "file_extension": ".py",
   "mimetype": "text/x-python",
   "name": "python",
   "nbconvert_exporter": "python",
   "pygments_lexer": "ipython2",
   "version": "2.7.6"
  }
 },
 "nbformat": 4,
 "nbformat_minor": 5
}
